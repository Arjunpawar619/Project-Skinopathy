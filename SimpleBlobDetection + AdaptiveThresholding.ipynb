{
 "cells": [
  {
   "cell_type": "markdown",
   "metadata": {},
   "source": [
    "## Import Libraries"
   ]
  },
  {
   "cell_type": "code",
   "execution_count": 97,
   "metadata": {
    "id": "wyizTHQ_9LG7"
   },
   "outputs": [],
   "source": [
    "import cv2\n",
    "import tensorflow as tf\n",
    "import os\n",
    "import matplotlib.pyplot as plt\n",
    "import numpy as np\n",
    "import os\n",
    "import glob\n",
    "import scipy.ndimage as ndimage\n",
    "import matplotlib.pyplot as plt\n",
    "import re\n",
    "from PIL import ImageEnhance , Image\n",
    "from google.colab.patches import cv2_imshow"
   ]
  },
  {
   "cell_type": "markdown",
   "metadata": {},
   "source": [
    "## SimpleBlobDetection Parameters"
   ]
  },
  {
   "cell_type": "code",
   "execution_count": 98,
   "metadata": {
    "id": "ce_aDv0WuKT7"
   },
   "outputs": [],
   "source": [
    "# Setup SimpleBlobDetector parameters.\n",
    "params = cv2.SimpleBlobDetector_Params()\n",
    " \n",
    "# Change thresholds\n",
    "params.minThreshold = 150;\n",
    "params.maxThreshold = 255;\n",
    " \n",
    "# Filter by Area.\n",
    "params.filterByArea = True\n",
    "params.minArea = 50\n",
    " \n",
    "# Filter by Circularity\n",
    "params.filterByCircularity = True\n",
    "params.minCircularity = 0.3\n",
    " \n",
    "# Filter by Convexity\n",
    "params.filterByConvexity = True\n",
    "params.minConvexity = 0.7\n",
    " \n",
    "# Filter by Inertia\n",
    "params.filterByInertia = True\n",
    "params.minInertiaRatio = 0.09\n",
    " \n",
    "# Create a detector with the parameters\n",
    "ver = (cv2.__version__).split('.')\n",
    "if int(ver[0]) < 3 :\n",
    "  detector = cv2.SimpleBlobDetector(params)\n",
    "else : \n",
    "  detector = cv2.SimpleBlobDetector_create(params)"
   ]
  },
  {
   "cell_type": "markdown",
   "metadata": {},
   "source": [
    "## SimpleBlobDetection Algorithm"
   ]
  },
  {
   "cell_type": "code",
   "execution_count": 99,
   "metadata": {
    "id": "JH0y1gxfA_rm"
   },
   "outputs": [],
   "source": [
    "def Blob_image(img,detector):\n",
    "\n",
    "  img_rgb = cv2.cvtColor(img, cv2.COLOR_BGR2RGB)\n",
    "\n",
    "  blur = cv2.GaussianBlur(img_rgb, (11,11), 0)  # improve\n",
    "\n",
    "  lab = cv2.cvtColor(blur, cv2.COLOR_BGR2LAB)\n",
    "\n",
    "  l_component = lab[:, :, 0]\n",
    "\n",
    "  keypoints= detector.detect(l_component)\n",
    "\n",
    "  #blob_sizes = [kp.size for kp in keypoints]\n",
    "  img = img.copy()\n",
    "  for x in range(1,len(keypoints)):\n",
    "    img=cv2.circle(img, (np.int(keypoints[x].pt[0]),np.int(keypoints[x].pt[1])), radius=np.int(keypoints[x].size), color=(0,0,0), thickness=-1)\n",
    "\n",
    "  return img "
   ]
  },
  {
   "cell_type": "markdown",
   "metadata": {},
   "source": [
    "## AdaptiveThresholding Algorithm"
   ]
  },
  {
   "cell_type": "code",
   "execution_count": 100,
   "metadata": {
    "id": "tb5eTPXirt-w"
   },
   "outputs": [],
   "source": [
    "def map_img(blob_img,original_image):\n",
    "  \n",
    "  kernel = np.ones((7,7), np.uint8)\n",
    "\n",
    "  # Apply dilation\n",
    "  dilated_img = cv2.dilate(blob_img, kernel, iterations=1)\n",
    "\n",
    "  gray = cv2.cvtColor(dilated_img, cv2.COLOR_BGR2GRAY) \n",
    "\n",
    "  # Apply Gaussian blurring\n",
    "  blurred = cv2.GaussianBlur(gray, (7, 7), 0)\n",
    "  \n",
    "  #thresholding\n",
    "  thresholdImage = cv2.adaptiveThreshold(blurred, 255,cv2.ADAPTIVE_THRESH_GAUSSIAN_C, cv2.THRESH_BINARY ,11,3)\n",
    "\n",
    "  # Detect edges using Canny Edge Detection\n",
    "  edges = cv2.Canny(thresholdImage, 140, 255,5)\n",
    "\n",
    "  # Find contours in the image\n",
    "  contours, _ = cv2.findContours(edges, cv2.RETR_EXTERNAL, cv2.CHAIN_APPROX_SIMPLE)\n",
    "\n",
    "  # Filter the contours\n",
    "  filtered_contours = []\n",
    "  for contour in contours:\n",
    "    x,y,w,h = cv2.boundingRect(contour)\n",
    "    if h < 120 and w < 120:\n",
    "      #filtered_contours.append(contour)\n",
    "      if cv2.contourArea(contour) > 100:\n",
    "        filtered_contours.append(contour)\n",
    "\n",
    "  # Draw rectangles around the contours\n",
    "  for contour in filtered_contours:\n",
    "      x, y, w, h = cv2.boundingRect(contour)\n",
    "      cv2.rectangle(blob_img, (x, y), (x + w, y + h), (0, 255, 0), 2)\n",
    "      cv2.rectangle(original_image, (x, y), (x + w, y + h), (0, 255, 0), 2)\n",
    "\n",
    "  return blob_img, original_image, edges, thresholdImage"
   ]
  },
  {
   "cell_type": "markdown",
   "metadata": {},
   "source": [
    "## Running the defined algorithms "
   ]
  },
  {
   "cell_type": "code",
   "execution_count": null,
   "metadata": {},
   "outputs": [],
   "source": [
    "filepath = '/content/drive/MyDrive/Project_Images/Remapped_Images/'\n",
    "for i in range(1,13):\n",
    "  img_101 = cv2.imread('/content/drive/MyDrive/Project_Images/Photos/mole_img_{0}.jpg'.format(i))\n",
    "  blob_image = Blob_image(img_101,detector)\n",
    "  blob_img, original_image, edges, thresholdImage = map_img(blob_image,img_101)\n",
    "\n",
    "  cv2.imwrite(os.path.join(filepath, 'mapped_image_{0}.jpg'.format(i)), original_image)"
   ]
  }
 ],
 "metadata": {
  "accelerator": "GPU",
  "colab": {
   "provenance": []
  },
  "gpuClass": "standard",
  "kernelspec": {
   "display_name": "Python 3 (ipykernel)",
   "language": "python",
   "name": "python3"
  },
  "language_info": {
   "codemirror_mode": {
    "name": "ipython",
    "version": 3
   },
   "file_extension": ".py",
   "mimetype": "text/x-python",
   "name": "python",
   "nbconvert_exporter": "python",
   "pygments_lexer": "ipython3",
   "version": "3.9.13"
  }
 },
 "nbformat": 4,
 "nbformat_minor": 1
}
